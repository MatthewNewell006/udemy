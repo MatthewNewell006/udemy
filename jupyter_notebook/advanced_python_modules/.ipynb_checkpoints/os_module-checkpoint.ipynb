{
 "cells": [
  {
   "cell_type": "markdown",
   "metadata": {},
   "source": [
    "Python's os module and shutil allow us to easily navigate files and directories on the computer and then perform actions on them, such as moving them or deleting them."
   ]
  },
  {
   "cell_type": "code",
   "execution_count": null,
   "metadata": {},
   "outputs": [],
   "source": []
  },
  {
   "cell_type": "code",
   "execution_count": 2,
   "metadata": {},
   "outputs": [
    {
     "data": {
      "text/plain": [
       "'/Users/matthewnewell/Desktop/github/udemy/jupyter_notebook/advanced_python_modules'"
      ]
     },
     "execution_count": 2,
     "metadata": {},
     "output_type": "execute_result"
    }
   ],
   "source": [
    "pwd"
   ]
  },
  {
   "cell_type": "code",
   "execution_count": 4,
   "metadata": {},
   "outputs": [],
   "source": [
    "# To open a text file that doesn't exist yet will create that text file\n",
    "# So open(create) that text file and create it so that you can write to it.\n",
    "\n",
    "f = open('practice.txt', 'w+')\n",
    "f.write('This is a test string.')\n",
    "f.close()"
   ]
  },
  {
   "cell_type": "code",
   "execution_count": null,
   "metadata": {},
   "outputs": [],
   "source": []
  },
  {
   "cell_type": "code",
   "execution_count": 5,
   "metadata": {},
   "outputs": [],
   "source": [
    "import os"
   ]
  },
  {
   "cell_type": "code",
   "execution_count": 9,
   "metadata": {},
   "outputs": [
    {
     "data": {
      "text/plain": [
       "'/Users/matthewnewell/Desktop/github/udemy/jupyter_notebook/advanced_python_modules'"
      ]
     },
     "execution_count": 9,
     "metadata": {},
     "output_type": "execute_result"
    }
   ],
   "source": [
    "# get current working directory\n",
    "\n",
    "os.getcwd()"
   ]
  },
  {
   "cell_type": "code",
   "execution_count": 11,
   "metadata": {},
   "outputs": [
    {
     "data": {
      "text/plain": [
       "['practice.txt',\n",
       " '.ipynb_checkpoints',\n",
       " 'collections_module.ipynb',\n",
       " 'os_module.ipynb']"
      ]
     },
     "execution_count": 11,
     "metadata": {},
     "output_type": "execute_result"
    }
   ],
   "source": [
    "# List items in the directory\n",
    "\n",
    "os.listdir()"
   ]
  },
  {
   "cell_type": "code",
   "execution_count": 14,
   "metadata": {},
   "outputs": [
    {
     "data": {
      "text/plain": [
       "['.config',\n",
       " 'Music',\n",
       " '.condarc',\n",
       " '.docker',\n",
       " '.bash_aliases.swp',\n",
       " '.DS_Store',\n",
       " '.bash_profile.swp',\n",
       " 'requirements.txt',\n",
       " '.CFUserTextEncoding',\n",
       " '.vnc',\n",
       " 'data_dump',\n",
       " '.local',\n",
       " '.psql_history',\n",
       " 'Pictures',\n",
       " '.pylint.d',\n",
       " '.zprofile',\n",
       " '.zsh_history',\n",
       " '.ipython',\n",
       " 'Desktop',\n",
       " 'Library',\n",
       " '.bash-git-prompt',\n",
       " '.matplotlib',\n",
       " '.lesshst',\n",
       " 'housing2.sql',\n",
       " 'seaborn-data',\n",
       " '.bash_profile.pysave',\n",
       " '.cups',\n",
       " '.bash_sessions',\n",
       " '.sqlite_history',\n",
       " 'Public',\n",
       " 'getting-started',\n",
       " '.idlerc',\n",
       " '.anaconda',\n",
       " '.bash_profile.swo',\n",
       " 'Movies',\n",
       " 'Applications',\n",
       " '.Trash',\n",
       " '.jupyter',\n",
       " '.keras',\n",
       " '.bashrc.swp',\n",
       " 'Documents',\n",
       " '.vscode',\n",
       " '.bash_profile',\n",
       " 'Downloads',\n",
       " '.python_history',\n",
       " '.aws',\n",
       " '.gitconfig',\n",
       " '.cufflinks',\n",
       " '.bash_history',\n",
       " '.viminfo',\n",
       " 'doodle',\n",
       " '.conda']"
      ]
     },
     "execution_count": 14,
     "metadata": {},
     "output_type": "execute_result"
    }
   ],
   "source": [
    "os.listdir('/Users/matthewnewell/')"
   ]
  },
  {
   "cell_type": "code",
   "execution_count": null,
   "metadata": {},
   "outputs": [],
   "source": []
  },
  {
   "cell_type": "code",
   "execution_count": 22,
   "metadata": {},
   "outputs": [],
   "source": [
    "import shutil    # Shell Utilities Module"
   ]
  },
  {
   "cell_type": "code",
   "execution_count": 23,
   "metadata": {},
   "outputs": [
    {
     "data": {
      "text/plain": [
       "'/Users/matthewnewell/Desktop/github/udemy/jupyter_notebook/practice.txt'"
      ]
     },
     "execution_count": 23,
     "metadata": {},
     "output_type": "execute_result"
    }
   ],
   "source": [
    "# Recursively move a file or directory to another location.\n",
    "# This is similar to the Unix \"mv\" command.\n",
    "# Return the file or directory's destination.\n",
    "\n",
    "shutil.move('practice.txt', '/Users/matthewnewell/Desktop/github/udemy/jupyter_notebook/')"
   ]
  },
  {
   "cell_type": "code",
   "execution_count": 24,
   "metadata": {},
   "outputs": [
    {
     "data": {
      "text/plain": [
       "'/Users/matthewnewell/Desktop/github/udemy/jupyter_notebook/advanced_python_modules/practice.txt'"
      ]
     },
     "execution_count": 24,
     "metadata": {},
     "output_type": "execute_result"
    }
   ],
   "source": [
    "shutil.move('/Users/matthewnewell/Desktop/github/udemy/jupyter_notebook/practice.txt', '/Users/matthewnewell/Desktop/github/udemy/jupyter_notebook/advanced_python_modules')"
   ]
  },
  {
   "cell_type": "code",
   "execution_count": 25,
   "metadata": {},
   "outputs": [
    {
     "data": {
      "text/plain": [
       "'/Users/matthewnewell/Desktop/github/udemy/jupyter_notebook/practice.txt'"
      ]
     },
     "execution_count": 25,
     "metadata": {},
     "output_type": "execute_result"
    }
   ],
   "source": [
    "shutil.move('practice.txt', '/Users/matthewnewell/Desktop/github/udemy/jupyter_notebook/')"
   ]
  },
  {
   "cell_type": "code",
   "execution_count": 27,
   "metadata": {},
   "outputs": [
    {
     "data": {
      "text/plain": [
       "['decorators',\n",
       " 'projects',\n",
       " 'practice.txt',\n",
       " 'oop',\n",
       " 'advanced_python_modules',\n",
       " 'generators',\n",
       " 'error_exception_handeling']"
      ]
     },
     "execution_count": 27,
     "metadata": {},
     "output_type": "execute_result"
    }
   ],
   "source": [
    "os.listdir('/Users/matthewnewell/Desktop/github/udemy/jupyter_notebook/')"
   ]
  },
  {
   "cell_type": "code",
   "execution_count": null,
   "metadata": {},
   "outputs": [],
   "source": []
  },
  {
   "cell_type": "markdown",
   "metadata": {},
   "source": [
    "### Deleting Files\n",
    "\n",
    "The os module provides 3 methods for deleting files\n",
    "\n",
    "* os.unlink(path)    which deletes a file at the path you provide\n",
    "* os.rmdir(path)     which deletes a folder (folder must be empty) at the path you provide\n",
    "* shutil.rmtree(path)    this is the most dangerous, as it will remove all files and folders contained in the path\n",
    "\n",
    "**All of these methods cannot be reversed. Which means if you make a mistake you won't be able to recover the file. Instead we will use the send2trash module. A safer alternative that sends deleted files to the trash bin instead of permanent removal**"
   ]
  },
  {
   "cell_type": "markdown",
   "metadata": {},
   "source": [
    "**Install the send2trash module with:**\n",
    "\n",
    ">*pip install send2trash*\n",
    "\n",
    "**at your command line.**"
   ]
  },
  {
   "cell_type": "code",
   "execution_count": null,
   "metadata": {},
   "outputs": [],
   "source": []
  },
  {
   "cell_type": "code",
   "execution_count": 28,
   "metadata": {},
   "outputs": [],
   "source": [
    "import send2trash"
   ]
  },
  {
   "cell_type": "code",
   "execution_count": null,
   "metadata": {},
   "outputs": [],
   "source": []
  }
 ],
 "metadata": {
  "kernelspec": {
   "display_name": "Python 3",
   "language": "python",
   "name": "python3"
  },
  "language_info": {
   "codemirror_mode": {
    "name": "ipython",
    "version": 3
   },
   "file_extension": ".py",
   "mimetype": "text/x-python",
   "name": "python",
   "nbconvert_exporter": "python",
   "pygments_lexer": "ipython3",
   "version": "3.8.5"
  }
 },
 "nbformat": 4,
 "nbformat_minor": 4
}
