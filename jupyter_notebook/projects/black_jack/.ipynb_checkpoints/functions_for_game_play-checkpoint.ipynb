{
 "cells": [
  {
   "cell_type": "code",
   "execution_count": 1,
   "metadata": {},
   "outputs": [],
   "source": [
    "import random"
   ]
  },
  {
   "cell_type": "code",
   "execution_count": 2,
   "metadata": {},
   "outputs": [],
   "source": [
    "ranks = ('Two', 'Three', 'Four', 'Five', 'Six', 'Seven', 'Eight',\n",
    "        'Nine', 'Ten', 'Jack', 'Queen', 'King', 'Ace' )\n",
    "\n",
    "suits = ('Hearts', 'Diamonds', 'Spades', 'Clubs')\n",
    "\n",
    "values = {'Two': 2, 'Three': 3, 'Four': 4, 'Five': 5, 'Six': 6, 'Seven': 7, 'Eight': 8,\n",
    "         'Nine': 9, 'Ten': 10, 'Jack': 10, 'Queen': 10, 'King': 10, 'Ace': 11}\n",
    "\n",
    "playing = True"
   ]
  },
  {
   "cell_type": "code",
   "execution_count": 3,
   "metadata": {},
   "outputs": [],
   "source": [
    "class Cards:\n",
    "    \n",
    "    def __init__(self, suit, rank):\n",
    "        self.suit = suit\n",
    "        self.rank = rank\n",
    "    \n",
    "    def __str__(self):\n",
    "        self.rank + ' of ' + self.suit"
   ]
  },
  {
   "cell_type": "code",
   "execution_count": 4,
   "metadata": {},
   "outputs": [],
   "source": [
    "class Deck:\n",
    "    \n",
    "    def __init__(self):\n",
    "        \n",
    "        self.deck = []\n",
    "        \n",
    "        for suit in suits:\n",
    "            for rank in rank:\n",
    "                self.deck.append(Cards(suit, rank))\n",
    "    \n",
    "    def __str__(self):\n",
    "        deck_comp = ''\n",
    "        for card in self.deck:\n",
    "            dek_comp += '\\n' + card.__str__()\n",
    "        return 'The deck has: ' + deck_comp\n",
    "    \n",
    "    def shuffle(self):\n",
    "        random.shuffle(self.deck)\n",
    "    \n",
    "    def deal(self):\n",
    "        single_card = self.deck.pop()\n",
    "        return single_card\n",
    "                "
   ]
  },
  {
   "cell_type": "code",
   "execution_count": 5,
   "metadata": {},
   "outputs": [],
   "source": [
    "class Hand:\n",
    "    \n",
    "    def __init__(self):\n",
    "        self.cards = []    # start with an empty list as we did in the Deck class\n",
    "        self.value = 0     # start with zero value\n",
    "        self.aces = 0      # add an attribute to handle the aces\n",
    "    \n",
    "    def add_card(self, card):\n",
    "        # card passed in\n",
    "        # from Deck.deal() ---> single Card(suit, rank)\n",
    "        self.cards.append(card)\n",
    "        self.value += values[card.rank]\n",
    "        \n",
    "        # track aces\n",
    "        if card.rank == 'Ace':\n",
    "            self.aces += 1\n",
    "    \n",
    "    def adjust_for_ace(self):\n",
    "        \n",
    "        # If total.value > 21 and I still have an ace\n",
    "        # Then change my ace to be a 1 instead of 11\n",
    "        while self.value > 21 and self.aces:\n",
    "            self.value -= 10\n",
    "            self.aces -= 1"
   ]
  },
  {
   "cell_type": "code",
   "execution_count": 6,
   "metadata": {},
   "outputs": [],
   "source": [
    "class Chips:\n",
    "    \n",
    "    def __inti__(self, total = 100):\n",
    "        self.total = total    # This can be set to a default value or supplied by a user input\n",
    "        self.bet = 0\n",
    "    \n",
    "    def win_bet(self):\n",
    "        self.total += self.bet\n",
    "    \n",
    "    def lose_bet(self):\n",
    "        self.total -= self.bet"
   ]
  },
  {
   "cell_type": "code",
   "execution_count": 7,
   "metadata": {},
   "outputs": [],
   "source": [
    "def take_bet(chips):\n",
    "    \n",
    "    while True:\n",
    "        \n",
    "        try:\n",
    "            chips.bet = int(input('How many chips would you like to bet? '))\n",
    "        except:\n",
    "            print('Sorry. Please provide an integer. ')\n",
    "        else:\n",
    "            if chips.bet > chips.total:\n",
    "                print(\"Sorry, you don't have enough chips! You have: {}\".format(chips.total))\n",
    "            else:\n",
    "                break"
   ]
  },
  {
   "cell_type": "code",
   "execution_count": 8,
   "metadata": {},
   "outputs": [],
   "source": [
    "def hit(deck, hand):\n",
    "    \n",
    "    single_card = deck.deal()\n",
    "    hand.add_card(single_card)\n",
    "    hand.adjust_for_ace()"
   ]
  },
  {
   "cell_type": "code",
   "execution_count": 10,
   "metadata": {},
   "outputs": [],
   "source": [
    "def hit_or_stand(deck, hand):\n",
    "    \n",
    "    global playing    # to control an upcoming while loop\n",
    "    \n",
    "    while True:\n",
    "        x = input('Hit or Stand? Enter h or s. ')    # Hit # hh # stand\n",
    "        \n",
    "        if x[0].lower() == 'h':\n",
    "            hit(deck, hand)\n",
    "        elif x[0].lower() == 's':\n",
    "            print(\"Player stands. Dealers Turn.\")\n",
    "            playing = False\n",
    "        else:\n",
    "            print(\"Sorry I didn't understand that. Please enter h or s only\")\n",
    "            continue\n",
    "        break"
   ]
  },
  {
   "cell_type": "code",
   "execution_count": null,
   "metadata": {},
   "outputs": [],
   "source": [
    "def player_busts(player, dealer, chips):\n",
    "    print(\"Bust Player!\")\n",
    "    chips.lose_bet()\n",
    "    \n",
    "def player_wins(player, dealer, chips):\n",
    "    print(\"Player Wins!\")\n",
    "    chips.win_bet()\n",
    "    \n",
    "def dealer_busts(player, dealer, chips):\n",
    "    print(\"Player Wins! Dealer Busts!\")\n",
    "    chips.win_bet()\n",
    "    \n",
    "def dealer_wins(player, dealer, chips):\n",
    "    print('Dealer Wins!')\n",
    "    chips.lose_bet()\n",
    "    \n",
    "def push(player, dealer):\n",
    "    print(\"Player and Dealer tie. Push!\")"
   ]
  }
 ],
 "metadata": {
  "kernelspec": {
   "display_name": "Python 3",
   "language": "python",
   "name": "python3"
  },
  "language_info": {
   "codemirror_mode": {
    "name": "ipython",
    "version": 3
   },
   "file_extension": ".py",
   "mimetype": "text/x-python",
   "name": "python",
   "nbconvert_exporter": "python",
   "pygments_lexer": "ipython3",
   "version": "3.8.5"
  }
 },
 "nbformat": 4,
 "nbformat_minor": 4
}
