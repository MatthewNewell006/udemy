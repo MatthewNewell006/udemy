{
 "cells": [
  {
   "cell_type": "code",
   "execution_count": 5,
   "metadata": {},
   "outputs": [],
   "source": [
    "import random"
   ]
  },
  {
   "cell_type": "code",
   "execution_count": null,
   "metadata": {},
   "outputs": [],
   "source": []
  },
  {
   "cell_type": "code",
   "execution_count": 6,
   "metadata": {},
   "outputs": [],
   "source": [
    "ranks = ('Two', 'Three', 'Four', 'Five', 'Six', 'Seven', 'Eight',\n",
    "        'Nine', 'Ten', 'Jack', 'Queen', 'King', 'Ace' )\n",
    "\n",
    "suits = ('Hearts', 'Diamonds', 'Spades', 'Clubs')\n",
    "\n",
    "values = {'Two': 2, 'Three': 3, 'Four': 4, 'Five': 5, 'Six': 6, 'Seven': 7, 'Eight': 8,\n",
    "         'Nine': 9, 'Ten': 10, 'Jack': 10, 'Queen': 10, 'King': 10, 'Ace': 11}\n",
    "\n",
    "playing = True"
   ]
  },
  {
   "cell_type": "code",
   "execution_count": null,
   "metadata": {},
   "outputs": [],
   "source": []
  },
  {
   "cell_type": "code",
   "execution_count": 11,
   "metadata": {},
   "outputs": [],
   "source": [
    "class Cards:\n",
    "    \n",
    "    def __init__(self, suit, rank):\n",
    "        self.suit = suit\n",
    "        self.rank = rank\n",
    "    \n",
    "    def __str__(self):\n",
    "        return self.rank + ' of ' + self.suit"
   ]
  },
  {
   "cell_type": "code",
   "execution_count": null,
   "metadata": {},
   "outputs": [],
   "source": []
  },
  {
   "cell_type": "code",
   "execution_count": 12,
   "metadata": {},
   "outputs": [],
   "source": [
    "class Deck():\n",
    "    \n",
    "    def __init__(self):\n",
    "        self.deck = [] # start with an empty list\n",
    "        for suit in suits:\n",
    "            for rank in ranks:\n",
    "                self.deck.append(Cards(suit, rank))\n",
    "    \n",
    "    def __str__(self):\n",
    "        deck_comp = ''\n",
    "        for card in self.deck:\n",
    "            deck_comp += '\\n' + card.__str__()\n",
    "        return 'The deck has: ' + deck_comp\n",
    "    \n",
    "    def shuffle(self):\n",
    "        random.shuffle(self.deck)\n",
    "    \n",
    "    def deal(self):\n",
    "        single_card = self.deck.pop()\n",
    "        return single_card"
   ]
  },
  {
   "cell_type": "code",
   "execution_count": null,
   "metadata": {},
   "outputs": [],
   "source": []
  },
  {
   "cell_type": "code",
   "execution_count": 13,
   "metadata": {},
   "outputs": [
    {
     "name": "stdout",
     "output_type": "stream",
     "text": [
      "The deck has: \n",
      "King of Hearts\n",
      "Three of Spades\n",
      "Nine of Diamonds\n",
      "Nine of Hearts\n",
      "Two of Spades\n",
      "Jack of Spades\n",
      "Six of Diamonds\n",
      "Five of Spades\n",
      "Jack of Hearts\n",
      "Eight of Spades\n",
      "Five of Diamonds\n",
      "Jack of Diamonds\n",
      "Ace of Diamonds\n",
      "Six of Clubs\n",
      "Seven of Spades\n",
      "Five of Hearts\n",
      "Queen of Hearts\n",
      "Nine of Spades\n",
      "Three of Clubs\n",
      "Four of Diamonds\n",
      "Eight of Diamonds\n",
      "Two of Diamonds\n",
      "Two of Hearts\n",
      "Ten of Clubs\n",
      "King of Diamonds\n",
      "Four of Hearts\n",
      "King of Spades\n",
      "Ace of Clubs\n",
      "Eight of Hearts\n",
      "Two of Clubs\n",
      "Eight of Clubs\n",
      "Three of Hearts\n",
      "Seven of Hearts\n",
      "Seven of Diamonds\n",
      "Nine of Clubs\n",
      "Jack of Clubs\n",
      "Queen of Spades\n",
      "King of Clubs\n",
      "Ace of Spades\n",
      "Seven of Clubs\n",
      "Four of Clubs\n",
      "Ace of Hearts\n",
      "Ten of Hearts\n",
      "Queen of Clubs\n",
      "Six of Spades\n",
      "Four of Spades\n",
      "Three of Diamonds\n",
      "Ten of Spades\n",
      "Ten of Diamonds\n",
      "Five of Clubs\n",
      "Queen of Diamonds\n",
      "Six of Hearts\n"
     ]
    }
   ],
   "source": [
    "test_deck = Deck()\n",
    "test_deck.shuffle()\n",
    "print(test_deck)"
   ]
  },
  {
   "cell_type": "code",
   "execution_count": null,
   "metadata": {},
   "outputs": [],
   "source": []
  }
 ],
 "metadata": {
  "kernelspec": {
   "display_name": "Python 3",
   "language": "python",
   "name": "python3"
  },
  "language_info": {
   "codemirror_mode": {
    "name": "ipython",
    "version": 3
   },
   "file_extension": ".py",
   "mimetype": "text/x-python",
   "name": "python",
   "nbconvert_exporter": "python",
   "pygments_lexer": "ipython3",
   "version": "3.8.5"
  }
 },
 "nbformat": 4,
 "nbformat_minor": 4
}
